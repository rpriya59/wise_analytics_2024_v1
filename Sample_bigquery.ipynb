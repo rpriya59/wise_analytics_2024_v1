{
 "cells": [
  {
   "cell_type": "code",
   "execution_count": null,
   "id": "cb9c934e-2343-40ba-a3e0-414a3cef11cb",
   "metadata": {
    "editable": true,
    "slideshow": {
     "slide_type": ""
    },
    "tags": []
   },
   "outputs": [],
   "source": [
    "import pandas as pd\n",
    "import pyarrow.parquet as pq\n",
    "from google.cloud import bigquery\n",
    "import pyarrow\n",
    "import os \n",
    "os.environ['GOOGLE_APPLICATION_CREDENTIALS'] = '/Users/lravin667/Downloads/decisive-scion-437014-c8-d5fd4b94b067.json'\n",
    "from google.cloud import storage\n",
    "\n",
    "def read_parquet_from_gcs(bucket_name, parquet_file_path):\n",
    "    # Initialize a GCS client\n",
    "    client = storage.Client()\n",
    "\n",
    "    # Get the bucket\n",
    "    bucket = client.get_bucket(bucket_name)\n",
    "\n",
    "    # Create a blob object from the file path\n",
    "    blob = bucket.blob(parquet_file_path)\n",
    "\n",
    "    # Download the blob to a local file\n",
    "    local_file_name = 'temp.parquet'  # Temporary file to store the downloaded Parquet file\n",
    "    blob.download_to_filename(local_file_name)\n",
    "\n",
    "    # Read the Parquet file into a pandas DataFrame\n",
    "    df = pd.read_parquet(local_file_name)\n",
    "\n",
    "    return df\n",
    "    \n",
    "def load_parquet_to_partitioned_bigquery(dataset_id, table_id, source_uri, partition_column):\n",
    "    # Initialize the BigQuery client\n",
    "    client = bigquery.Client()\n",
    "\n",
    "    # Create a job configuration for loading the Parquet file\n",
    "    job_config = bigquery.LoadJobConfig(\n",
    "        source_format=bigquery.SourceFormat.PARQUET,\n",
    "        # Specify partitioning\n",
    "        time_partitioning=bigquery.TimePartitioning(\n",
    "            field=partition_column,  # The column to partition by\n",
    "            type_=bigquery.TimePartitioningType.DAY,  # Partitioning type (DAY, MONTH, YEAR)\n",
    "        ),\n",
    "    )\n",
    "\n",
    "    # Load the data into the partitioned BigQuery table\n",
    "    load_job = client.load_table_from_uri(\n",
    "        source_uri,\n",
    "        f'{client.project}.{dataset_id}.{table_id}',\n",
    "        job_config=job_config,\n",
    "    )\n",
    "\n",
    "    # Wait for the job to complete\n",
    "    load_job.result()\n",
    "\n",
    "    # Output the result\n",
    "    print(f'Loaded {load_job.output_rows} rows into {dataset_id}.{table_id}.')\n",
    "\n",
    "if __name__ == '__main__':\n",
    "        # Define your bucket and file path\n",
    "    bucket_name = 'lakshmi_test1'  # Replace with your bucket name\n",
    "    parquet_file_path = 'yellow_tripdata_2024-01.parquet'  # Replace with your Parquet file path\n",
    "\n",
    "    # Read the Parquet file and print the DataFrame\n",
    "    df_jan = read_parquet_from_gcs(bucket_name, parquet_file_path)\n",
    "    parquet_file_path = 'yellow_tripdata_2024-02.parquet'\n",
    "    df_feb = read_parquet_from_gcs(bucket_name, parquet_file_path)\n",
    "    inner_join = pd.merge(df_jan, df_jan, on='VendorID', how='inner')\n",
    "    print('Data from inner join')\n",
    "    print(inner_join)\n",
    "    \n",
    "    # Define your dataset and table\n",
    "    dataset_id = 'yellow_tripdata'  # dataset ID\n",
    "    table_id = 'yellow_tripdata_2024-01'       # table ID\n",
    "    source_uri = 'gs://lakshmi_test1/yellow_tripdata_2024-01.parquet'  # GCS path where the file is located\n",
    "    partition_column='VendorID'  #partition column on which table will be partitioned\n",
    "\n",
    "    load_parquet_to_bigquery(dataset_id, table_id, source_uri)\n"
   ]
  },
  {
   "cell_type": "code",
   "execution_count": null,
   "id": "4bff8beb-0bd7-430c-8e4d-941688f46123",
   "metadata": {
    "editable": true,
    "slideshow": {
     "slide_type": ""
    },
    "tags": []
   },
   "outputs": [],
   "source": []
  }
 ],
 "metadata": {
  "kernelspec": {
   "display_name": "Python 3 (ipykernel)",
   "language": "python",
   "name": "python3"
  },
  "language_info": {
   "codemirror_mode": {
    "name": "ipython",
    "version": 3
   },
   "file_extension": ".py",
   "mimetype": "text/x-python",
   "name": "python",
   "nbconvert_exporter": "python",
   "pygments_lexer": "ipython3",
   "version": "3.9.7"
  }
 },
 "nbformat": 4,
 "nbformat_minor": 5
}
